{
 "cells": [
  {
   "cell_type": "markdown",
   "id": "7f53bb5a",
   "metadata": {},
   "source": [
    "#Cryto Trading Bot Using Binance"
   ]
  },
  {
   "cell_type": "markdown",
   "id": "b73cb9e7",
   "metadata": {},
   "source": [
    "###This is a very primitive cryptocurrency trading bot. Used an extremely simple algorithm. Uses binance.com to trade. \n",
    "Please look into binance API for more information on libraries used. "
   ]
  },
  {
   "cell_type": "code",
   "execution_count": null,
   "id": "bb8ab1ed",
   "metadata": {},
   "outputs": [],
   "source": [
    "!pip install python-binance\n",
    "import pandas as pd\n",
    "import sqlalchemy\n",
    "from binance.client import Client\n",
    "\n",
    "\n"
   ]
  },
  {
   "cell_type": "code",
   "execution_count": null,
   "id": "7ba5b32f",
   "metadata": {
    "scrolled": true
   },
   "outputs": [],
   "source": [
    "#api key and secret ket created through binance API. Real keys not used in this project\n",
    "api_key = \"ICDHzblXhVlIYTT2qcTugHpitGmlWI1iPi8QGSA7gLLvhvRpDZFROmSv2Zt2sOY81\"\n",
    "api_secret = \"KI3xNkbf7Bwgh4aPONcul7mK1ZP6qoFMZ2upQjKMMjT2RzwBQMUg5m64CcMgnJQ8\"\n",
    "client = Client(api_key,api_secret)"
   ]
  },
  {
   "cell_type": "code",
   "execution_count": null,
   "id": "d17b74ff",
   "metadata": {},
   "outputs": [],
   "source": [
    "#client.get_account()\n",
    "#shows Binance trade information"
   ]
  },
  {
   "cell_type": "code",
   "execution_count": null,
   "id": "a88e1216",
   "metadata": {},
   "outputs": [],
   "source": [
    "pd.DataFrame(client.get_historical_klines('BTCUSDT', '1m', '30 min ago UTC'))\n",
    "#displays real time charts for selected currecy, first attribute is currency, second attribute is how many months prior, third attribute is time + zone"
   ]
  },
  {
   "cell_type": "code",
   "execution_count": null,
   "id": "a02f9fc1",
   "metadata": {},
   "outputs": [],
   "source": [
    "def getminutedata(symbol, interval, lookback):\n",
    "    frame = pd.DataFrame(client.get_historical_klines(symbol, interval, lookback+' min ago UTC'))\n",
    "    frame = frame.iloc[:,:6]\n",
    "    frame.columns = ['Time', 'Open', 'High', 'Low', 'Close', 'Volume']\n",
    "    frame = frame.set_index('Time')\n",
    "    frame.index = pd.to_datatime(frame.index, unit='ms')\n",
    "    frame = rame.astype(float)\n",
    "    return frame\n",
    "#cleans previous sections data and displays it"
   ]
  },
  {
   "cell_type": "code",
   "execution_count": null,
   "id": "1616c437",
   "metadata": {},
   "outputs": [],
   "source": [
    "#test = getminutedata('DOGEUSDT','1m','30')\n",
    "#test.Open.plot()"
   ]
  },
  {
   "cell_type": "code",
   "execution_count": null,
   "id": "f7d98588",
   "metadata": {},
   "outputs": [],
   "source": [
    "#the algorithm:\n",
    "#buy if asset fell by more by 0.2% within the last 30 mins\n",
    "#sell if asset rises  by more than 0.15% or falls further by 0.15%\n",
    "\n",
    "def strategytest(symbol, qty, entried = False):\n",
    "    df = getminutedata(symbol, '1m', '30m')\n",
    "    cumulret = (df.Open.pct_change() +1).cumprod() -1\n",
    "    if not entried:\n",
    "        if cumulret[-1] < -0,002:\n",
    "            order = client.create_order(symbol=symbol, side = 'BUY', type = 'MARKET', quantity=qty)\n",
    "            print(order)\n",
    "            entried = True\n",
    "        else:\n",
    "            print(\"not trade executed\")\n",
    "    if entried:\n",
    "        while True:\n",
    "            df = getminutedata(symbol,'1m','30m')\n",
    "            sincebuy = df.loc[df.index > pd.todatetime(order['transactTime'], unit='ms')]\n",
    "            if len(sincebuy)>0:\n",
    "                sincebuyret = (sincebuy.Open.pct_change() +1).cumprod() -1\n",
    "                if sincebuy[-1]> 0.0015 or sincebuyret[-1] < -0.0015:\n",
    "                    order = client.create_order(symbol=symbol,side='SELL', type = 'MARKET', quantity=qty)\n",
    "                print(order)\n",
    "                break"
   ]
  },
  {
   "cell_type": "code",
   "execution_count": null,
   "id": "f99c9574",
   "metadata": {},
   "outputs": [],
   "source": [
    "#strategytest('BTCUSD', 0.00001)"
   ]
  }
 ],
 "metadata": {
  "kernelspec": {
   "display_name": "Python 3",
   "language": "python",
   "name": "python3"
  },
  "language_info": {
   "codemirror_mode": {
    "name": "ipython",
    "version": 3
   },
   "file_extension": ".py",
   "mimetype": "text/x-python",
   "name": "python",
   "nbconvert_exporter": "python",
   "pygments_lexer": "ipython3",
   "version": "3.8.8"
  }
 },
 "nbformat": 4,
 "nbformat_minor": 5
}
